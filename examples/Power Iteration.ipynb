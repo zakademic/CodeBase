{
 "cells": [
  {
   "cell_type": "markdown",
   "metadata": {},
   "source": [
    "# Power Iteration"
   ]
  },
  {
   "cell_type": "markdown",
   "metadata": {},
   "source": [
    "In this notebook, we look to investigate a linear algebra algorithm called Power Iteration. \n",
    "\n",
    "Given a symmetric matrix $A \\in \\mathbb{R}^{n\\times n}$, we can find it's largest eigenvalue by simply taking a random vector $v \\in \\mathbb{R}^{n}$ and multiplying $A$ with $v$, taking that result, and multiplying $A$ again with it, over and over again. Eventually, the resultant vector will be the eigenvector associated with the largest eigenvalue. \n",
    "\n",
    "This eigenvalue can be found via Rayleigh Quotient, defined as follows:\n",
    "$\\lambda = \\frac{v^T A v}{v^T v}$\n",
    "\n",
    "\n",
    "That's right: SIMPLY BY MULTIPLYING A BY A RANDOM VECTOR AND MULTIPLYING THAT OUTPUT BY A AND SO ON, WE CAN FIND THE LARGEST EIGENVALUE/VECTOR! IT'S THAT SIMPLE!"
   ]
  },
  {
   "cell_type": "markdown",
   "metadata": {},
   "source": [
    "### The Algorithm\n",
    "\n",
    "Here is the algorithm in words. \n",
    "\n",
    "$v_{0}$ = some random vector in $\\mathbb{R}^{n}$ with $||v_{0}|| = 1 $\n",
    "\n",
    "for $k = 1, 2, ... \\\\\n",
    "     w = A v_{k-1}  \\enspace (Apply \\enspace A) \\\\                  \n",
    "     v_{k} = w / ||w||  \\enspace (Normalize)\\\\            \n",
    "     \\lambda_{k} = v_{k}^{T} A v_{k} \\enspace (Eigenvalue \\enspace from \\enspace Rayleigh \\enspace Quotient)$  "
   ]
  },
  {
   "cell_type": "markdown",
   "metadata": {},
   "source": [
    "Below is the algorithm in code. "
   ]
  },
  {
   "cell_type": "code",
   "execution_count": 3,
   "metadata": {},
   "outputs": [],
   "source": [
    "import numpy as np\n",
    "\n",
    "def power_iteration(A,v, error_tol = 1e-12, max_iterations = 500):\n",
    "    \"\"\"\n",
    "    Input: \n",
    "    A: Matrix whose largest eigenvalue we will find. Numpy array. np.shape(A) = (n,n)\n",
    "    v: Initial random vector. Numpy array. np.shape(v) = (n,) or (n,1)\n",
    "    \n",
    "    Output: \n",
    "    lamda: Largest eigenvalue of matrix. float value. \n",
    "    v: Eigenvector associated with largest eigenvalue lamda. Numpy array. np.shape(v) = (n,) or (n,1)\n",
    "    \"\"\"\n",
    "    convergence = False\n",
    "    lamda_previous = 0\n",
    "    iterations = 0\n",
    "    error = 1e12 \n",
    "    \n",
    "    while (convergence == False):\n",
    "        w = np.dot(A,v)\n",
    "        v = w/np.linalg.norm(w) \n",
    "        lamda = np.dot(v.T,np.dot(A,v))\n",
    "        \n",
    "        #Check convergence \n",
    "        error = np.abs(lamda - lamda_previous)/lamda\n",
    "        iterations += 1 \n",
    "        \n",
    "        if (error <= error_tol or iterations >= max_iterations):\n",
    "            convergence = True\n",
    "        \n",
    "        lamda_previous = lamda\n",
    "        \n",
    "    return lamda, v"
   ]
  },
  {
   "cell_type": "markdown",
   "metadata": {},
   "source": [
    "### Example: Compare to Numpy eigh function"
   ]
  },
  {
   "cell_type": "code",
   "execution_count": 24,
   "metadata": {},
   "outputs": [
    {
     "name": "stdout",
     "output_type": "stream",
     "text": [
      "From Numpy built in library.\n",
      "Largest Eigenvalue: 23.197588853558727\n",
      "Largest Eigenvector: [0.38551468 0.30569119 0.25223855 0.30703594 0.24715369 0.38680035\n",
      " 0.39724199 0.25227291 0.26081145 0.31602386]\n",
      "From Power Iteration we wrote.\n",
      "Largest Eigenvalue: 23.19758885355869\n",
      "Largest Eigenvector: [0.38551469 0.3056912  0.25223855 0.30703592 0.24715368 0.38680036\n",
      " 0.39724199 0.2522729  0.26081146 0.31602385]\n"
     ]
    }
   ],
   "source": [
    "#Example \n",
    "np.random.seed(100)\n",
    "#Set dimension of space\n",
    "n = 10\n",
    "\n",
    "#Create random matrix in space R^{nxn}\n",
    "A = np.random.rand(n,n)\n",
    "#Ensure matrix A is Symmetric \n",
    "A = np.dot(A.T,A)\n",
    "#Create random vector in space R^n\n",
    "v = np.random.rand(n)\n",
    "\n",
    "# Find eigenvalues using python built in library. \n",
    "# https://numpy.org/doc/stable/reference/generated/numpy.linalg.eigh.html\n",
    "# The function will return eignevalues in ascending order and eigenvectors correspondingly\n",
    "eigenvalues, eigenvectors =  np.linalg.eigh(A)\n",
    "largest_eigenvalue = eigenvalues[-1]\n",
    "largest_eigenvector = eigenvectors[:,-1]\n",
    "\n",
    "#Double check with Rayleigh Quotient \n",
    "rayleigh_quotient = np.dot(largest_eigenvector.T,np.dot(A,largest_eigenvector))\n",
    "\n",
    "print('From Numpy built in library.')\n",
    "print(f'Largest Eigenvalue: {largest_eigenvalue}')\n",
    "print(f'Largest Eigenvector: {largest_eigenvector}')\n",
    "# Now try our own code \n",
    "largest_eigenvalue_power, largest_eigenvector_power = power_iteration(A,v)\n",
    "print('From Power Iteration we wrote.')\n",
    "print(f'Largest Eigenvalue: {largest_eigenvalue_power}')\n",
    "print(f'Largest Eigenvector: {largest_eigenvector_power}')"
   ]
  },
  {
   "cell_type": "markdown",
   "metadata": {},
   "source": [
    "### Why Does this Work? "
   ]
  },
  {
   "cell_type": "markdown",
   "metadata": {},
   "source": [
    "At first glance we can wonder why this works. We simply run $v_{k} = Av_{k-1}$ over and over again and that $v_{k}$ becomes the eigenvector associated with the largest eigenvalue of the matrix $A$. That simple! Let's take a look at the math behind it to see why this happens. \n"
   ]
  },
  {
   "cell_type": "markdown",
   "metadata": {},
   "source": [
    "Our initial vector $v_0$ can be expressed as a linear combination of all eigenvectors in the space $R^n$. \n",
    "\n",
    "$v_{0} = a_1 q_1 + q_2 q_2 + ... + a_n q_n$ where $q_i$ are the eigenvectors. If we multiply by $A$, we can use the fact that $Aq_i = \\lambda_i q_i$. \n",
    "\n",
    "$v_{1} = A (a_1 q_1 + q_2 q_2 + ... + a_n q_n) \\\\\n",
    "       = (a_1 Aq_1 + q_2 Aq_2 + ... + a_n Aq_n) \\\\\n",
    "       = (a_1 \\lambda_1 q_1 + a_2 \\lambda_2 q_2 + ... + a_n \\lambda_n q_n )\n",
    "       $\n"
   ]
  },
  {
   "cell_type": "markdown",
   "metadata": {},
   "source": [
    "If we do this for $k$ steps, we can get to \n",
    "\n",
    "$v_k = c_k (a_1 \\lambda_1^k q_1 + a_2 \\lambda_2^k q_2 + ... + a_n \\lambda_n^k q_n ) $"
   ]
  },
  {
   "cell_type": "markdown",
   "metadata": {},
   "source": [
    "The constant $c_k$ has come up because we need to account for some lack of normalization of the resulting vectors $v_i$. "
   ]
  },
  {
   "cell_type": "markdown",
   "metadata": {},
   "source": [
    "We now have the line:\n",
    "    \n",
    "$v_k = c_k (a_1 \\lambda_1^k q_1 + a_2 \\lambda_2^k q_2 + ... + a_n \\lambda_n^k q_n ) $"
   ]
  },
  {
   "cell_type": "markdown",
   "metadata": {},
   "source": [
    "Let's pull out the leading eigenvalue, which is the largest one. "
   ]
  },
  {
   "cell_type": "markdown",
   "metadata": {},
   "source": [
    "$v_k = c_k \\lambda_1^k (a_1 q_1 + a_2 (\\lambda_2 / \\lambda_1)^k q_2 + ... + a_n (\\lambda_n / \\lambda_1)^k q_n )$"
   ]
  },
  {
   "cell_type": "markdown",
   "metadata": {},
   "source": [
    "We see that the first term will survive and all other terms will die off eventually so long as the following two condition are met. As $k$ gets large, $(\\lambda_i/\\lambda_1)^k$ will become very small and therefore die off. We will eventually be left with $v_k = c_k \\lambda_1^k a_1 q_1$. Using the Rayleigh Quotient expression on this vector, we can find the eigenvalue corresponding to the normalized vector $v_k = v_k / ||v_k||$. \n",
    "\n",
    "We need \n",
    "\n",
    "1. $|\\lambda_1| > |\\lambda_2| > ... |\\lambda_n|$ as well as \n",
    "\n",
    "2. $q_1^T v_{0} \\neq 0$. \n",
    "\n",
    "If the former is false, then the later terms will not go to zero as $k$ gets larger. If the latter is false, then the initial random vector will not contain a component corresponding to the first eigenvector. This means we will only be able to find the second largest eigenvalue. "
   ]
  },
  {
   "cell_type": "code",
   "execution_count": null,
   "metadata": {},
   "outputs": [],
   "source": []
  }
 ],
 "metadata": {
  "kernelspec": {
   "display_name": "Python 3",
   "language": "python",
   "name": "python3"
  },
  "language_info": {
   "codemirror_mode": {
    "name": "ipython",
    "version": 3
   },
   "file_extension": ".py",
   "mimetype": "text/x-python",
   "name": "python",
   "nbconvert_exporter": "python",
   "pygments_lexer": "ipython3",
   "version": "3.7.5"
  }
 },
 "nbformat": 4,
 "nbformat_minor": 2
}
