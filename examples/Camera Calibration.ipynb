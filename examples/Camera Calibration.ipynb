{
 "cells": [
  {
   "cell_type": "markdown",
   "metadata": {},
   "source": [
    "# Camera Calibration"
   ]
  },
  {
   "cell_type": "markdown",
   "metadata": {},
   "source": [
    "## Image Formation: From 3D point to 2D pixel position"
   ]
  },
  {
   "cell_type": "markdown",
   "metadata": {},
   "source": [
    "### Homogenous Coordinates "
   ]
  },
  {
   "cell_type": "markdown",
   "metadata": {},
   "source": [
    "For reasons that will be explained later, we will use homogenous coordinates to express the pixel coordinates and 3D object space coordinates. This means we will simply add a 1 to the bottom of the column for each coordinate. This has to do with ambiguity in the relation from a pixel coordinate to the point in 3D object space. We don't know exactly how far along the ray direction from the camera to go; we only know the direction of the ray. \n",
    "\n",
    "In pixel space, we write this as: \n",
    "$[x_{p}, y_{p}, 1]^{T}$\n",
    "\n",
    "In object space, we write this as: \n",
    "$[X_{c}, Y_{c}, Z_{c}, 1]^{T}$ \n",
    "\n",
    "We use the subscript $p$ for pixel space, and the subscript $c$ for camera object space. "
   ]
  },
  {
   "cell_type": "markdown",
   "metadata": {},
   "source": [
    "### Geometry of Image Formation: Focal Length "
   ]
  },
  {
   "cell_type": "markdown",
   "metadata": {},
   "source": [
    "We can look at the figure of how a pixel position appears in image space compared to where it appears in 3D object space. \n",
    "\n",
    "Using similar triangles, we see the pixel position is related to the focal length and distance from the camera. \n",
    "\n",
    "We have \n",
    "\n",
    "$x_{p} = f \\frac{X_{c}}{Z_{c}}$ and $ y_{p} = f \\frac{Y_{c}}{Z_{c}}$. \n",
    "\n",
    "This is unfortunately a non-linear transformation since we are dividing by $Z_c$. In order to have a linear transformation, we use our homogeneous coordinate representation. We can then use express this in matrix form. \n",
    "\n",
    "We can express this in matrix form as: \n",
    "\n",
    "\\begin{equation}\n",
    "\\begin{bmatrix}\n",
    "x'_{p} \\\\\n",
    "y'_{p} \\\\\n",
    "Z_{c} \n",
    "\\end{bmatrix} = \n",
    "\\begin{bmatrix}\n",
    "f & 0 & 0 & 0 \\\\\n",
    "0 & f & 0 & 0 \\\\ \n",
    "0 & 0 & 1 & 0\n",
    "\\end{bmatrix}\n",
    "\\begin{bmatrix}\n",
    "X_{c} \\\\\n",
    "Y_{c} \\\\\n",
    "Z_{c} \\\\\n",
    "1 \n",
    "\\end{bmatrix}\n",
    "\\end{equation}\n",
    "\n",
    "In order to recover the point in Euclidean image space, we divide by the $Z_{c}$, taking us to a homogenous form: \n",
    "\n",
    "\\begin{equation}\n",
    "\\begin{bmatrix}\n",
    "x'_{p} \\\\\n",
    "y'_{p} \\\\\n",
    "Z_{c} \n",
    "\\end{bmatrix} \\rightarrow \n",
    "\\begin{bmatrix}\n",
    "x_{p} \\\\\n",
    "y_{p} \\\\\n",
    "1 \n",
    "\\end{bmatrix}\n",
    "\\end{equation} \n",
    "\n",
    "where we have $x_{p} = \\frac{x'_{p}}{Z_{c}}$, etc. "
   ]
  },
  {
   "cell_type": "markdown",
   "metadata": {},
   "source": [
    "### Adjusting for Principal Point"
   ]
  },
  {
   "cell_type": "markdown",
   "metadata": {},
   "source": [
    "We need to adjust for the fact that the center of the image is not where we want to have the origin, we want the origin to be at the bottom left corner of the image. To adjust for this, we express\n",
    "\n",
    "$x_{p} = f \\frac{X_{c}}{Z_{c}} + c_{x}$ and $ y_{p} = f \\frac{Y_{c}}{Z_{c}}+c_{y}$\n",
    "\n",
    "where $c_{x}$ and $c_{y}$ are offsets in image space to adjust for origin. Our matrix expression now takes the form: \n",
    "\n",
    "\n",
    "\\begin{equation}\n",
    "\\begin{bmatrix}\n",
    "x'_{p} \\\\\n",
    "y'_{p} \\\\\n",
    "Z_{c} \n",
    "\\end{bmatrix} = \n",
    "\\begin{bmatrix}\n",
    "f & 0 & c_{x} & 0 \\\\\n",
    "0 & f & c_{y} & 0 \\\\ \n",
    "0 & 0 & 1 & 0\n",
    "\\end{bmatrix}\n",
    "\\begin{bmatrix}\n",
    "X_{c} \\\\\n",
    "Y_{c} \\\\\n",
    "Z_{c} \\\\\n",
    "1 \n",
    "\\end{bmatrix}\n",
    "\\end{equation}\n",
    "\n",
    "Notice this would now give\n",
    "$x'_{p} = f X_{c} + c_{x} Z_{c} $, but when dividing by $Z_{c}$ to get our homogenous form, we'd obtain\n",
    "$x'_{p} = f \\frac{X_{c}}{Z_{c}} + c_{x} $ which is what we expect in image space. "
   ]
  },
  {
   "cell_type": "markdown",
   "metadata": {},
   "source": [
    "### Adjusting for Meter to Pixel factor"
   ]
  },
  {
   "cell_type": "markdown",
   "metadata": {},
   "source": [
    "Note that every value in object space is in meters. We need values in pixel coordinates. We need a conversion from meters to pixels. This can be handled as follows. \n",
    "\n",
    "$x_{p} = f k \\frac{X_c}{Z_c} + c_{x} $ \n",
    "\n",
    "Note we first convert the meters to pixels, and then add on the pixel offset. The conversion factor $k$ has dimensions of $pixel/meter$. We will have a similar conversion in the y direction. The conversion factor need not be the same in both x and y. \n",
    "\n",
    "We can now account for this conversion in matrix formation as follows. \n",
    "\n",
    "\\begin{equation}\n",
    "\\begin{bmatrix}\n",
    "x'_{p} \\\\\n",
    "y'_{p} \\\\\n",
    "Z_{c} \n",
    "\\end{bmatrix} = \n",
    "\\begin{bmatrix}\n",
    "\\alpha & 0 & c_{x} & 0 \\\\\n",
    "0 & \\beta & c_{y} & 0 \\\\ \n",
    "0 & 0 & 1 & 0\n",
    "\\end{bmatrix}\n",
    "\\begin{bmatrix}\n",
    "X_{c} \\\\\n",
    "Y_{c} \\\\\n",
    "Z_{c} \\\\\n",
    "1 \n",
    "\\end{bmatrix}\n",
    "\\end{equation}\n",
    "\n",
    "where $\\alpha = f k $ and $\\beta$ is defined in a similar manner. "
   ]
  },
  {
   "cell_type": "markdown",
   "metadata": {},
   "source": [
    "### Adjusting for Skew "
   ]
  },
  {
   "cell_type": "markdown",
   "metadata": {},
   "source": [
    "In some cases, there may be skew to be accounted for. For instance, the camera plane may not be aligned properly. We will not get into details, but this can be expressed in matrix form as follows. \n",
    "\n",
    "\\begin{equation}\n",
    "\\begin{bmatrix}\n",
    "x'_{p} \\\\\n",
    "y'_{p} \\\\\n",
    "Z_{c} \n",
    "\\end{bmatrix} = \n",
    "\\begin{bmatrix}\n",
    "\\alpha & s & c_{x} & 0 \\\\\n",
    "0 & \\beta & c_{y} & 0 \\\\ \n",
    "0 & 0 & 1 & 0\n",
    "\\end{bmatrix}\n",
    "\\begin{bmatrix}\n",
    "X_{c} \\\\\n",
    "Y_{c} \\\\\n",
    "Z_{c} \\\\\n",
    "1 \n",
    "\\end{bmatrix}\n",
    "\\end{equation}"
   ]
  },
  {
   "cell_type": "markdown",
   "metadata": {},
   "source": [
    "### Intrinsics "
   ]
  },
  {
   "cell_type": "markdown",
   "metadata": {},
   "source": [
    "We finally can define our camera matrix as \n",
    "\n",
    "\\begin{equation}\n",
    "K = \\begin{bmatrix}\n",
    "\\alpha & s & c_{x} & 0 \\\\\n",
    "0 & \\beta & c_{y} & 0 \\\\ \n",
    "0 & 0 & 1 & 0\n",
    "\\end{bmatrix}\n",
    "\\end{equation}\n",
    "\n",
    "This matrix represents the intrinsic parameters of the camera. \n",
    "\n",
    "Our pixel position will be defined by dividing by the $Z_c$ value. "
   ]
  },
  {
   "cell_type": "markdown",
   "metadata": {},
   "source": [
    "## Coordinate Transformations: World to Camera System"
   ]
  },
  {
   "cell_type": "markdown",
   "metadata": {},
   "source": [
    "### Transform World Point to Camera System"
   ]
  },
  {
   "cell_type": "markdown",
   "metadata": {},
   "source": [
    "We need to understand that we may not necessarily and most likely will not define 3D object points in terms of the camera coordinate system, but rather a different world coordinate system. \n",
    "\n",
    "We can express the transformation as \n",
    "\n",
    "\\begin{equation}\n",
    "\\mathbf{X}_{c} = \n",
    "\\begin{bmatrix}\n",
    "\\mathbf{R} & \\mathbf{T} \\\\ \n",
    "0 & 1\n",
    "\\end{bmatrix}\n",
    "\\mathbf{X}_{w} \n",
    "\\end{equation}\n",
    "\n",
    "where $R$ is a $3\\times 3$ rotation matrix and $T$ is a $3 \\times 1$ column vector. The subscript $w$ refers to world coordinate system. Reference image for clarity. \n"
   ]
  },
  {
   "cell_type": "markdown",
   "metadata": {},
   "source": [
    "### Extrinsics "
   ]
  },
  {
   "cell_type": "markdown",
   "metadata": {},
   "source": [
    "This matrix that includes the rotation and translation referes to extrinsics of our system. "
   ]
  },
  {
   "cell_type": "markdown",
   "metadata": {},
   "source": [
    "## Full Projection Matrix "
   ]
  },
  {
   "cell_type": "markdown",
   "metadata": {},
   "source": [
    "We can now define our full projection matrix to take us from a world coordinate system to image pixel space. \n",
    "\n",
    "\\begin{equation}\n",
    "\\mathbf{x}'_{p} = \\mathbf{P}\n",
    "\\mathbf{X}_{w}\n",
    "\\end{equation}\n",
    "\n",
    "We divide $\\mathbf{x}'_{p}$ by the last element in the column to get our pixel position, $\\mathbf{x}_{p}$. \n",
    "\n",
    "The matrix here is termed the projection matrix. \n",
    "\\begin{equation}\n",
    "\\mathbf{P}= \\mathbf{K} \\begin{bmatrix}\n",
    "\\mathbf{R} & \\mathbf{T} \\\\ \n",
    "0 & 1\n",
    "\\end{bmatrix} \n",
    "\\end{equation}"
   ]
  },
  {
   "cell_type": "markdown",
   "metadata": {},
   "source": [
    "## Homography "
   ]
  },
  {
   "cell_type": "markdown",
   "metadata": {},
   "source": [
    "### World Points on a Plane"
   ]
  },
  {
   "cell_type": "markdown",
   "metadata": {},
   "source": [
    "We can calibrate a camera by taking known image points that have known correspondences in object space, form many equations, and then find our components of the projection matrix. \n",
    "\n",
    "To have a controlled scene, a 3D target is needed. The 3D target can be a plane, such that in its coordinate system, the $Z$ component in the world is the same. When doing this, we mathematically obtain a homography. \n",
    "\n",
    "For each point correspondence, we will obtain an expression for $x_{p}$ and $y_{p}$. Let us use $i$ as a subscript to describe the correspondence number. \n",
    "\n",
    "\\begin{equation}\n",
    "x_{p, i} = \\frac{ p_{11} X_{w,i} + p_{12} Y_{w,i} + p_{13}Z_{w,i} + p_{14} }{ p_{31}X_{w,i} + p_{32}Y_{w,i} + p_{33} Z_{w,i} + p_{34} } \n",
    "\\end{equation}\n",
    "\n",
    "\\begin{equation}\n",
    "y_{p, i} = \\frac{ p_{21} X_{w,i} + p_{22} Y_{w,i} + p_{23}Z_{w,i} + p_{24} }{ p_{31}X_{w,i} + p_{32}Y_{w,i} + p_{33} Z_{w,i} + p_{34} } \n",
    "\\end{equation}\n",
    "\n",
    "These equations can be re-arranged to have a linear system for the elements of $P$. For $i = 1...n$ correspondences, we can have the following. \n",
    "\n",
    "\\begin{equation}\n",
    "\\begin{bmatrix}\n",
    "X_{1} & Y_{1} & Z_{1} & 1 & 0 & 0 & 0 & 0 & -u_{1}X_{1} & -u_{1}Y_{1} & -u_{1}Z_{1} & -u_{1} \\\\\n",
    "0 & 0 & 0 & 0 & X_{1} & Y_{1} & Z_{1} & 1 & -v_{1}X_{1} & -v_{1}Y_{1} & -v_{1}Z_{1} & -v_{1} \\\\\n",
    "X_{2} & Y_{2} & Z_{2} & 1 & 0 & 0 & 0 & 0 & -u_{2}X_{2} & -u_{2}Y_{2} & -u_{2}Z_{2} & -u_{2} \\\\\n",
    "0 & 0 & 0 & 0 & X_{2} & Y_{2} & Z_{2} & 1 & -v_{2}X_{2} & -v_{2}Y_{2} & -v_{2}Z_{2} & -v_{2} \\\\\n",
    "\\vdots & \\vdots & \\vdots & \\vdots & \\vdots & \\vdots & \\vdots & \\vdots & \\vdots & \\vdots & \\vdots & \\vdots \\\\\n",
    "\\vdots & \\vdots & \\vdots & \\vdots & \\vdots & \\vdots & \\vdots & \\vdots & \\vdots & \\vdots & \\vdots & \\vdots \\\\\n",
    "X_{n} & Y_{n} & Z_{n} & 1 & 0 & 0 & 0 & 0 & -u_{n}X_{n} & -u_{n}Y_{n} & -u_{n}Z_{n} & -u_{n} \\\\\n",
    "0 & 0 & 0 & 0 & X_{n} & Y_{n} & Z_{n} & 1 & -v_{n}X_{n} & -v_{n}Y_{n} & -v_{n}Z_{n} & -v_{n} \n",
    "\\end{bmatrix}\n",
    "\\begin{bmatrix}\n",
    "p_{11} \\\\\n",
    "p_{12} \\\\\n",
    "p_{13} \\\\\n",
    "p_{14} \\\\\n",
    "p_{21} \\\\\n",
    "p_{22} \\\\\n",
    "p_{23} \\\\\n",
    "p_{24} \\\\\n",
    "p_{31} \\\\\n",
    "p_{32} \\\\\n",
    "p_{33} \\\\\n",
    "p_{34} \n",
    "\\end{bmatrix}\n",
    "= \\mathbf{0}\n",
    "\\end{equation}\n",
    "\n",
    "Let's express this mathematically as \n",
    "\n",
    "\\begin{equation}\n",
    "\\mathbf{A}\\mathbf{p} = \\mathbf{0}\n",
    "\\end{equation}"
   ]
  },
  {
   "cell_type": "markdown",
   "metadata": {},
   "source": [
    "### Number of Correspondences "
   ]
  },
  {
   "cell_type": "markdown",
   "metadata": {},
   "source": [
    "The above linear system shows 12 elements in the  $p$ vector that should be solved for. However, there are actually only 11 independent elements, since scale is arbitrary as mentioned previously. Given that for a single correspondence, we get two equations, we know we need 6 correspondences at least to be able to solve this system. "
   ]
  },
  {
   "cell_type": "markdown",
   "metadata": {},
   "source": [
    "### Solution of the Linear System "
   ]
  },
  {
   "cell_type": "markdown",
   "metadata": {},
   "source": [
    "We have the linear system \n",
    "\n",
    "\\begin{equation}\n",
    "\\mathbf{A} \\mathbf{p} = 0\n",
    "\\end{equation}\n",
    "\n",
    "where $\\mathbf{A} \\in \\mathbb{R}^{2n \\times 12} $ and $\\mathbf{p} \\in \\mathbb{R}^{12 \\times 1} $, where $n$ is the number of correspondence points. "
   ]
  },
  {
   "cell_type": "markdown",
   "metadata": {},
   "source": [
    "The solution to this minimizes the left hand side in the 2-norm. This corresponds to the unit eigenvector corresponding to the smallest eigenvector of the matrix $\\mathbf{A}^{T} \\mathbf{A}$. We solve this using the singular value decomposition. \n",
    "\n",
    "\\begin{equation}\n",
    "A = U \\Sigma V^{T}\n",
    "\\end{equation}\n",
    "\n",
    "The last colum nof $V^{T}$ corresponds to the smallest singular value $\\sigma_{12}$. The singular values are just square roots of the eigen values of $A^{T} A$, but we are merely interested in the vector associated. "
   ]
  },
  {
   "cell_type": "markdown",
   "metadata": {},
   "source": [
    "### Decomposing Projection Matrix into Intrinsics and Extrinsics"
   ]
  },
  {
   "cell_type": "markdown",
   "metadata": {},
   "source": [
    "After we have solved for our vector $p$, we reshape it to a 3x4 matrix. We again use the definition of the projection matrix. \n",
    "\n",
    "\\begin{equation}\n",
    "\\mathbf{P}= \\mathbf{K} \\begin{bmatrix}\n",
    "\\mathbf{R} & \\mathbf{T} \\\\ \n",
    "0 & 1\n",
    "\\end{bmatrix} \n",
    "\\end{equation}\n",
    "\n",
    "We can decompose the first 3x3 sub-matrix of the projection matrix using a $QR$ factorization. This gives an upper triangular matrix $Q$ which will be our $K$ matrix. The $R$ matrix is also our $R$ matrix; the rotation. "
   ]
  },
  {
   "cell_type": "code",
   "execution_count": null,
   "metadata": {},
   "outputs": [],
   "source": []
  }
 ],
 "metadata": {
  "kernelspec": {
   "display_name": "Python 3",
   "language": "python",
   "name": "python3"
  },
  "language_info": {
   "codemirror_mode": {
    "name": "ipython",
    "version": 3
   },
   "file_extension": ".py",
   "mimetype": "text/x-python",
   "name": "python",
   "nbconvert_exporter": "python",
   "pygments_lexer": "ipython3",
   "version": "3.7.5"
  }
 },
 "nbformat": 4,
 "nbformat_minor": 2
}
